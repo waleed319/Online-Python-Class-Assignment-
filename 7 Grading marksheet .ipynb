{
 "cells": [
  {
   "cell_type": "code",
   "execution_count": 2,
   "id": "ca0306d2",
   "metadata": {},
   "outputs": [
    {
     "name": "stdout",
     "output_type": "stream",
     "text": [
      "Enter marks of the first subject: 12\n",
      "Enter marks of the second subject: 23\n",
      "Enter marks of the third subject: 34\n",
      "Enter marks of the fourth subject: 544\n",
      "Enter marks of the fifth subject: 23\n",
      "Grade: A\n"
     ]
    }
   ],
   "source": [
    "sub1=int(input(\"Enter marks of the first subject: \")) \n",
    "sub2=int(input(\"Enter marks of the second subject: \")) \n",
    "sub3=int(input(\"Enter marks of the third subject: \")) \n",
    "sub4=int(input(\"Enter marks of the fourth subject: \")) \n",
    "sub5=int(input(\"Enter marks of the fifth subject: \")) \n",
    "avg=(sub1+sub2+sub3+sub4+sub4)/5 \n",
    "if(avg>=90): print(\"Grade: A\") \n",
    "elif(avg>=80&avg<90): print(\"Grade: B\") \n",
    "elif(avg>=70&avg<80): print(\"Grade: C\") \n",
    "elif(avg>=60&avg<70): print(\"Grade: D\") \n",
    "else: print(\"Grade: F\")"
   ]
  },
  {
   "cell_type": "code",
   "execution_count": null,
   "id": "926741e4",
   "metadata": {},
   "outputs": [],
   "source": []
  }
 ],
 "metadata": {
  "kernelspec": {
   "display_name": "Python 3",
   "language": "python",
   "name": "python3"
  },
  "language_info": {
   "codemirror_mode": {
    "name": "ipython",
    "version": 3
   },
   "file_extension": ".py",
   "mimetype": "text/x-python",
   "name": "python",
   "nbconvert_exporter": "python",
   "pygments_lexer": "ipython3",
   "version": "3.8.8"
  }
 },
 "nbformat": 4,
 "nbformat_minor": 5
}
